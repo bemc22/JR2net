{
  "cells": [
    {
      "cell_type": "code",
      "source": [
        "!git clone https://github.com/bemc22/JR2net"
      ],
      "metadata": {
        "id": "624jZP22DV68",
        "outputId": "492520c2-b8b1-447b-9b22-1821905a62bf",
        "colab": {
          "base_uri": "https://localhost:8080/"
        }
      },
      "execution_count": 2,
      "outputs": [
        {
          "output_type": "stream",
          "name": "stdout",
          "text": [
            "Cloning into 'JR2net'...\n",
            "remote: Enumerating objects: 116, done.\u001b[K\n",
            "remote: Counting objects: 100% (20/20), done.\u001b[K\n",
            "remote: Compressing objects: 100% (12/12), done.\u001b[K\n",
            "remote: Total 116 (delta 17), reused 8 (delta 8), pack-reused 96\u001b[K\n",
            "Receiving objects: 100% (116/116), 84.67 MiB | 34.93 MiB/s, done.\n",
            "Resolving deltas: 100% (51/51), done.\n"
          ]
        }
      ]
    },
    {
      "cell_type": "code",
      "execution_count": 3,
      "metadata": {
        "id": "2OQNOU22DUo3",
        "outputId": "d3cf3ad6-96ae-414c-f7fd-5d48641b221d",
        "colab": {
          "base_uri": "https://localhost:8080/"
        }
      },
      "outputs": [
        {
          "output_type": "stream",
          "name": "stdout",
          "text": [
            "/content/JR2net\n"
          ]
        }
      ],
      "source": [
        "%cd \"JR2net\""
      ]
    },
    {
      "cell_type": "code",
      "execution_count": 4,
      "metadata": {
        "id": "uBXiMYLCDUo5"
      },
      "outputs": [],
      "source": [
        "import os\n",
        "\n",
        "import tensorflow as tf\n",
        "import numpy as np\n",
        "import scipy.io as sio\n",
        "\n",
        "from jr2net.utils import dd_cassi , coded2DTO3D\n",
        "from jr2net.metrics import SAM"
      ]
    },
    {
      "cell_type": "code",
      "source": [
        "! ls"
      ],
      "metadata": {
        "id": "Hhy71mhkDlmc",
        "outputId": "b7301f53-570f-475e-e0be-77e1298e84d5",
        "colab": {
          "base_uri": "https://localhost:8080/"
        }
      },
      "execution_count": 6,
      "outputs": [
        {
          "output_type": "stream",
          "name": "stdout",
          "text": [
            "codes  dataset.py\t     demo_train.ipynb  LICENSE\t  weights\n",
            "data   demo_inference.ipynb  jr2net\t       README.md\n"
          ]
        }
      ]
    },
    {
      "cell_type": "code",
      "execution_count": 7,
      "metadata": {
        "id": "qA7gP5IiDUo5"
      },
      "outputs": [],
      "source": [
        "RGB = [27, 17 , 4]\n",
        "BATCH_SIZE = 1\n",
        "split = 0.9\n",
        "INPUT_SHAPE = (512, 512, 31)\n",
        "data_path = r\"data/test\""
      ]
    },
    {
      "cell_type": "code",
      "execution_count": 8,
      "metadata": {
        "id": "Fcvw6vCPDUo6",
        "outputId": "28165ebb-a0db-4c5d-979e-2653abcf81e4",
        "colab": {
          "base_uri": "https://localhost:8080/"
        }
      },
      "outputs": [
        {
          "output_type": "stream",
          "name": "stdout",
          "text": [
            "(1, 512, 512, 31)\n"
          ]
        }
      ],
      "source": [
        "H = sio.loadmat('./codes/H_T=0.3.mat')['H'].astype(np.float32)\n",
        "H = H[None, ..., None]\n",
        "H = tf.cast(H, dtype=tf.float32)\n",
        "H = coded2DTO3D(H)\n",
        "print(H.shape)"
      ]
    },
    {
      "cell_type": "code",
      "execution_count": 9,
      "metadata": {
        "id": "uSYdyclYDUo6"
      },
      "outputs": [],
      "source": [
        "from jr2net.models import JR2net\n",
        "from jr2net.metrics import psnr\n",
        "\n",
        "unrolled_model = 'jr2net'\n",
        "STAGES = 7\n",
        "TRANSFER = False\n",
        "factors = [1, 1, 1/2, 1/2, 1/4, 1/8]\n",
        "PRIOR_FACTOR=2\n",
        "\n",
        "\n",
        "main_model = JR2net(input_size=(512, 512,31),num_stages=STAGES, training=False, factors=factors, prior_factor=PRIOR_FACTOR)\n",
        "model = main_model.unrolled\n",
        "\n",
        "\n",
        "model_params = {\n",
        "    'loss' : ['mse', 'mse'],\n",
        "    'optimizer' : tf.keras.optimizers.Adam(learning_rate=2e-5, amsgrad=False),\n",
        "    'metrics' : [psnr]\n",
        "}\n",
        "\n",
        "model.compile(**model_params,run_eagerly=False)\n",
        "unrolled_weights = f'./weights/jr2net_kaist.h5'\n",
        "model.load_weights(unrolled_weights)"
      ]
    },
    {
      "cell_type": "code",
      "execution_count": 10,
      "metadata": {
        "id": "WWoTotJoDUo6",
        "outputId": "f6ae3ea7-fa13-42fe-ba09-1a520d1b1d01",
        "colab": {
          "base_uri": "https://localhost:8080/"
        }
      },
      "outputs": [
        {
          "output_type": "stream",
          "name": "stdout",
          "text": [
            "1/1 [==============================] - 11s 11s/step\n",
            "inference time: 11.54\n",
            "Image_29.mat PSNR: 42.189 SSIM: 0.985 SAM: 0.125\n",
            "1/1 [==============================] - 0s 57ms/step\n",
            "inference time: 0.361\n",
            "Image_30.mat PSNR: 41.695 SSIM: 0.987 SAM: 0.058\n",
            "1/1 [==============================] - 0s 63ms/step\n",
            "inference time: 0.382\n",
            "Image_28.mat PSNR: 40.356 SSIM: 0.979 SAM: 0.132\n"
          ]
        }
      ],
      "source": [
        "import time\n",
        "\n",
        "imgs_names = os.listdir(data_path)\n",
        "imgs_names = [name for name in imgs_names if name.endswith('.mat')]\n",
        "\n",
        "\n",
        "for name in imgs_names:\n",
        "\n",
        "    path = os.path.join(data_path, name)\n",
        "    x = sio.loadmat(path)['img']\n",
        "    x = tf.constant(x, dtype=tf.float32)\n",
        "\n",
        "    y =  dd_cassi([x, H])\n",
        "\n",
        "    t = time.time()\n",
        "    x_est = model.predict((y,H))\n",
        "    duration = time.time() - t\n",
        "    print(\"inference time:\", round(duration,3))\n",
        "\n",
        "    psnr = tf.image.psnr(x, x_est, max_val=1)\n",
        "    ssim = tf.image.ssim(x, x_est, 1)\n",
        "    sam = SAM(x, x_est)\n",
        "\n",
        "    psnr = tf.reduce_mean(psnr).numpy()\n",
        "    ssim = tf.reduce_mean(ssim).numpy()\n",
        "    sam = tf.reduce_mean(sam).numpy()\n",
        "\n",
        "    psnr = round(psnr, 3)\n",
        "    ssim = round(ssim, 3)\n",
        "    sam = round(sam, 3)\n",
        "\n",
        "    print(name, \"PSNR:\", psnr, \"SSIM:\", ssim, \"SAM:\", sam)"
      ]
    }
  ],
  "metadata": {
    "kernelspec": {
      "display_name": "Python 3",
      "name": "python3"
    },
    "language_info": {
      "codemirror_mode": {
        "name": "ipython",
        "version": 3
      },
      "file_extension": ".py",
      "mimetype": "text/x-python",
      "name": "python",
      "nbconvert_exporter": "python",
      "pygments_lexer": "ipython3",
      "version": "3.9.0"
    },
    "orig_nbformat": 4,
    "colab": {
      "provenance": [],
      "gpuType": "T4"
    },
    "accelerator": "GPU"
  },
  "nbformat": 4,
  "nbformat_minor": 0
}